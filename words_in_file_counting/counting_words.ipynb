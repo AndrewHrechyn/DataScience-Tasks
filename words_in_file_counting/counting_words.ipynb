{
 "cells": [
  {
   "cell_type": "code",
   "id": "initial_id",
   "metadata": {
    "collapsed": true,
    "ExecuteTime": {
     "end_time": "2025-02-13T18:17:52.234751Z",
     "start_time": "2025-02-13T18:17:52.229838Z"
    }
   },
   "source": [
    "import string\n",
    "from collections import Counter"
   ],
   "outputs": [],
   "execution_count": 1
  },
  {
   "metadata": {
    "ExecuteTime": {
     "end_time": "2025-02-13T18:19:32.221297Z",
     "start_time": "2025-02-13T18:19:32.216504Z"
    }
   },
   "cell_type": "code",
   "source": [
    "def count_words(file_path):\n",
    "    with open(file_path, 'r', encoding='utf-8') as f:\n",
    "        text = f.read().lower()\n",
    "        text = text.translate(str.maketrans('', '', string.punctuation))\n",
    "        words = text.split()\n",
    "        return dict(Counter(words))"
   ],
   "id": "9ba74099f0f0c0b6",
   "outputs": [],
   "execution_count": 2
  },
  {
   "metadata": {
    "ExecuteTime": {
     "end_time": "2025-02-13T18:20:10.282619Z",
     "start_time": "2025-02-13T18:20:10.278612Z"
    }
   },
   "cell_type": "code",
   "source": [
    "result = count_words('example.txt')\n",
    "print(result)"
   ],
   "id": "fd4a4c2bcd044277",
   "outputs": [
    {
     "name": "stdout",
     "output_type": "stream",
     "text": [
      "{'hello': 3, 'world': 1, 'this': 1, 'is': 2, 'a': 1, 'test': 1, 'again': 1, 'my': 1, 'name': 1, 'andrii': 1}\n"
     ]
    }
   ],
   "execution_count": 5
  },
  {
   "metadata": {},
   "cell_type": "markdown",
   "source": [
    "We get a file where is a sentence.\n",
    "The task is to count unique words in file.\n",
    "\n",
    "hello: 1,\n",
    "this: 1,\n",
    "is: 1,\n",
    "a: 1,\n",
    "test: 1,\n",
    "world: 1"
   ],
   "id": "5eb92e312dd856af"
  }
 ],
 "metadata": {
  "kernelspec": {
   "display_name": "Python 3",
   "language": "python",
   "name": "python3"
  },
  "language_info": {
   "codemirror_mode": {
    "name": "ipython",
    "version": 2
   },
   "file_extension": ".py",
   "mimetype": "text/x-python",
   "name": "python",
   "nbconvert_exporter": "python",
   "pygments_lexer": "ipython2",
   "version": "2.7.6"
  }
 },
 "nbformat": 4,
 "nbformat_minor": 5
}
